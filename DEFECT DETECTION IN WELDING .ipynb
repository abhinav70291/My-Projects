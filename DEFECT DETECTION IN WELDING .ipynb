{
  "cells": [
    {
      "cell_type": "code",
      "execution_count": 1,
      "metadata": {
        "id": "w-fKfev6n4yI"
      },
      "outputs": [],
      "source": [
        "import numpy as np\n",
        "import pandas as pd\n",
        "\n",
        "from sklearn.metrics import f1_score,confusion_matrix,classification_report,mean_absolute_percentage_error as mape\n",
        "from lightgbm import LGBMClassifier"
      ]
    },
    {
      "cell_type": "code",
      "execution_count": null,
      "metadata": {
        "colab": {
          "base_uri": "https://localhost:8080/"
        },
        "id": "aXosuAvv2Keb",
        "outputId": "68f1d56b-1eff-4620-ec37-b077af510504"
      },
      "outputs": [
        {
          "output_type": "execute_result",
          "data": {
            "text/plain": [
              "Index(['Employee Code', 'Production', 'Order Operation No', 'Date', 'Time',\n",
              "       'Current', 'Humidity', 'Temperature', 'Flow', 'Job Temp', 'Voltage',\n",
              "       'Defect'],\n",
              "      dtype='object')"
            ]
          },
          "metadata": {},
          "execution_count": 2
        }
      ],
      "source": [
        "\n",
        "data=pd.read_excel('/content/drive/MyDrive/Colab Notebooks/WeldRight Dataset.xlsx')\n",
        "data=data.drop([\"Machine\",'Unnamed: 13', 'Unnamed: 14', 'Unnamed: 15', 'Unnamed: 16',\n",
        "       'Unnamed: 17', 'Unnamed: 18', 'Unnamed: 19', 'Unnamed: 20',\n",
        "       'Unnamed: 21', 'Unnamed: 22', 'Unnamed: 23', 'Unnamed: 24',\n",
        "       'Unnamed: 25', 'Unnamed: 26', 'Unnamed: 27', 'Unnamed: 28',\n",
        "       'Unnamed: 29', 'Unnamed: 30', 'Unnamed: 31', 'Unnamed: 32',\n",
        "       'Unnamed: 33', 'Unnamed: 34', 'Unnamed: 35', 'Unnamed: 36',\n",
        "       'Unnamed: 37', 'Unnamed: 38', 'Unnamed: 39', 'Unnamed: 40',\n",
        "       'Unnamed: 41', 'Unnamed: 42', 'Unnamed: 43', 'Unnamed: 44',\n",
        "       'Unnamed: 45', 'Unnamed: 46', 'Unnamed: 47', 'Unnamed: 48',\n",
        "       'Unnamed: 49', 'Unnamed: 50', 'Unnamed: 51', 'Unnamed: 52',\n",
        "       'Unnamed: 53', 'Unnamed: 54', 'Unnamed: 55', 'Unnamed: 56',\n",
        "       'Unnamed: 57', 'Unnamed: 58', 'Unnamed: 59', 'Unnamed: 60',\n",
        "       'Unnamed: 61', 'Unnamed: 62', 'Unnamed: 63', 'Unnamed: 64',\n",
        "       'Unnamed: 65', 'Unnamed: 66', 'Unnamed: 67', 'Unnamed: 68',\n",
        "       'Unnamed: 69', 'Unnamed: 70', 'Unnamed: 71', 'Unnamed: 72',\n",
        "       'Unnamed: 73', 'Unnamed: 74', 'Unnamed: 75', 'Unnamed: 76',\n",
        "       'Unnamed: 77', 'Unnamed: 78', 'Unnamed: 79', 'Unnamed: 80',\n",
        "       'Unnamed: 81', 'Unnamed: 82', 'Unnamed: 83', 'Unnamed: 84',\n",
        "       'Unnamed: 85', 'Unnamed: 86', 'Unnamed: 87'],axis=1)\n",
        "data.columns"
      ]
    },
    {
      "cell_type": "code",
      "execution_count": null,
      "metadata": {
        "colab": {
          "base_uri": "https://localhost:8080/",
          "height": 627
        },
        "id": "ijiH0jBL2MZp",
        "outputId": "838e5479-ca7c-4893-95c3-5b53e4996a56"
      },
      "outputs": [
        {
          "output_type": "stream",
          "name": "stdout",
          "text": [
            "Employee Code           int64\n",
            "Production            float64\n",
            "Order Operation No    float64\n",
            "Current               float64\n",
            "Humidity                int64\n",
            "Temperature             int64\n",
            "Flow                  float64\n",
            "Job Temp              float64\n",
            "Voltage               float64\n",
            "Defect                  int64\n",
            "dtype: object\n",
            "FINDING NULL COLUMNS:\n",
            "Employee Code         False\n",
            "Production            False\n",
            "Order Operation No    False\n",
            "Current               False\n",
            "Humidity              False\n",
            "Temperature           False\n",
            "Flow                  False\n",
            "Job Temp              False\n",
            "Voltage               False\n",
            "Defect                False\n",
            "dtype: bool\n"
          ]
        },
        {
          "output_type": "execute_result",
          "data": {
            "text/plain": [
              "   Employee Code  Production  Order Operation No  Current  Humidity  \\\n",
              "1         382617         1.0               240.0     1.13        74   \n",
              "2         382617         1.0               240.0     1.82        74   \n",
              "3         382617         1.0               240.0     2.91        74   \n",
              "4         382617         1.0               240.0     0.04        74   \n",
              "5         382617         1.0               240.0     2.51        74   \n",
              "\n",
              "   Temperature  Flow  Job Temp  Voltage  Defect  \n",
              "1           23  0.01      29.3     15.2       0  \n",
              "2           23  0.00      29.3      0.0       1  \n",
              "3           23  0.00      29.3      0.0       0  \n",
              "4           23  0.00      29.3      0.0       0  \n",
              "5           23  0.00      27.8      0.0       0  "
            ],
            "text/html": [
              "\n",
              "  <div id=\"df-c9db24b7-7e77-41b8-8e24-c12d5b3869c4\">\n",
              "    <div class=\"colab-df-container\">\n",
              "      <div>\n",
              "<style scoped>\n",
              "    .dataframe tbody tr th:only-of-type {\n",
              "        vertical-align: middle;\n",
              "    }\n",
              "\n",
              "    .dataframe tbody tr th {\n",
              "        vertical-align: top;\n",
              "    }\n",
              "\n",
              "    .dataframe thead th {\n",
              "        text-align: right;\n",
              "    }\n",
              "</style>\n",
              "<table border=\"1\" class=\"dataframe\">\n",
              "  <thead>\n",
              "    <tr style=\"text-align: right;\">\n",
              "      <th></th>\n",
              "      <th>Employee Code</th>\n",
              "      <th>Production</th>\n",
              "      <th>Order Operation No</th>\n",
              "      <th>Current</th>\n",
              "      <th>Humidity</th>\n",
              "      <th>Temperature</th>\n",
              "      <th>Flow</th>\n",
              "      <th>Job Temp</th>\n",
              "      <th>Voltage</th>\n",
              "      <th>Defect</th>\n",
              "    </tr>\n",
              "  </thead>\n",
              "  <tbody>\n",
              "    <tr>\n",
              "      <th>1</th>\n",
              "      <td>382617</td>\n",
              "      <td>1.0</td>\n",
              "      <td>240.0</td>\n",
              "      <td>1.13</td>\n",
              "      <td>74</td>\n",
              "      <td>23</td>\n",
              "      <td>0.01</td>\n",
              "      <td>29.3</td>\n",
              "      <td>15.2</td>\n",
              "      <td>0</td>\n",
              "    </tr>\n",
              "    <tr>\n",
              "      <th>2</th>\n",
              "      <td>382617</td>\n",
              "      <td>1.0</td>\n",
              "      <td>240.0</td>\n",
              "      <td>1.82</td>\n",
              "      <td>74</td>\n",
              "      <td>23</td>\n",
              "      <td>0.00</td>\n",
              "      <td>29.3</td>\n",
              "      <td>0.0</td>\n",
              "      <td>1</td>\n",
              "    </tr>\n",
              "    <tr>\n",
              "      <th>3</th>\n",
              "      <td>382617</td>\n",
              "      <td>1.0</td>\n",
              "      <td>240.0</td>\n",
              "      <td>2.91</td>\n",
              "      <td>74</td>\n",
              "      <td>23</td>\n",
              "      <td>0.00</td>\n",
              "      <td>29.3</td>\n",
              "      <td>0.0</td>\n",
              "      <td>0</td>\n",
              "    </tr>\n",
              "    <tr>\n",
              "      <th>4</th>\n",
              "      <td>382617</td>\n",
              "      <td>1.0</td>\n",
              "      <td>240.0</td>\n",
              "      <td>0.04</td>\n",
              "      <td>74</td>\n",
              "      <td>23</td>\n",
              "      <td>0.00</td>\n",
              "      <td>29.3</td>\n",
              "      <td>0.0</td>\n",
              "      <td>0</td>\n",
              "    </tr>\n",
              "    <tr>\n",
              "      <th>5</th>\n",
              "      <td>382617</td>\n",
              "      <td>1.0</td>\n",
              "      <td>240.0</td>\n",
              "      <td>2.51</td>\n",
              "      <td>74</td>\n",
              "      <td>23</td>\n",
              "      <td>0.00</td>\n",
              "      <td>27.8</td>\n",
              "      <td>0.0</td>\n",
              "      <td>0</td>\n",
              "    </tr>\n",
              "  </tbody>\n",
              "</table>\n",
              "</div>\n",
              "      <button class=\"colab-df-convert\" onclick=\"convertToInteractive('df-c9db24b7-7e77-41b8-8e24-c12d5b3869c4')\"\n",
              "              title=\"Convert this dataframe to an interactive table.\"\n",
              "              style=\"display:none;\">\n",
              "        \n",
              "  <svg xmlns=\"http://www.w3.org/2000/svg\" height=\"24px\"viewBox=\"0 0 24 24\"\n",
              "       width=\"24px\">\n",
              "    <path d=\"M0 0h24v24H0V0z\" fill=\"none\"/>\n",
              "    <path d=\"M18.56 5.44l.94 2.06.94-2.06 2.06-.94-2.06-.94-.94-2.06-.94 2.06-2.06.94zm-11 1L8.5 8.5l.94-2.06 2.06-.94-2.06-.94L8.5 2.5l-.94 2.06-2.06.94zm10 10l.94 2.06.94-2.06 2.06-.94-2.06-.94-.94-2.06-.94 2.06-2.06.94z\"/><path d=\"M17.41 7.96l-1.37-1.37c-.4-.4-.92-.59-1.43-.59-.52 0-1.04.2-1.43.59L10.3 9.45l-7.72 7.72c-.78.78-.78 2.05 0 2.83L4 21.41c.39.39.9.59 1.41.59.51 0 1.02-.2 1.41-.59l7.78-7.78 2.81-2.81c.8-.78.8-2.07 0-2.86zM5.41 20L4 18.59l7.72-7.72 1.47 1.35L5.41 20z\"/>\n",
              "  </svg>\n",
              "      </button>\n",
              "      \n",
              "  <style>\n",
              "    .colab-df-container {\n",
              "      display:flex;\n",
              "      flex-wrap:wrap;\n",
              "      gap: 12px;\n",
              "    }\n",
              "\n",
              "    .colab-df-convert {\n",
              "      background-color: #E8F0FE;\n",
              "      border: none;\n",
              "      border-radius: 50%;\n",
              "      cursor: pointer;\n",
              "      display: none;\n",
              "      fill: #1967D2;\n",
              "      height: 32px;\n",
              "      padding: 0 0 0 0;\n",
              "      width: 32px;\n",
              "    }\n",
              "\n",
              "    .colab-df-convert:hover {\n",
              "      background-color: #E2EBFA;\n",
              "      box-shadow: 0px 1px 2px rgba(60, 64, 67, 0.3), 0px 1px 3px 1px rgba(60, 64, 67, 0.15);\n",
              "      fill: #174EA6;\n",
              "    }\n",
              "\n",
              "    [theme=dark] .colab-df-convert {\n",
              "      background-color: #3B4455;\n",
              "      fill: #D2E3FC;\n",
              "    }\n",
              "\n",
              "    [theme=dark] .colab-df-convert:hover {\n",
              "      background-color: #434B5C;\n",
              "      box-shadow: 0px 1px 3px 1px rgba(0, 0, 0, 0.15);\n",
              "      filter: drop-shadow(0px 1px 2px rgba(0, 0, 0, 0.3));\n",
              "      fill: #FFFFFF;\n",
              "    }\n",
              "  </style>\n",
              "\n",
              "      <script>\n",
              "        const buttonEl =\n",
              "          document.querySelector('#df-c9db24b7-7e77-41b8-8e24-c12d5b3869c4 button.colab-df-convert');\n",
              "        buttonEl.style.display =\n",
              "          google.colab.kernel.accessAllowed ? 'block' : 'none';\n",
              "\n",
              "        async function convertToInteractive(key) {\n",
              "          const element = document.querySelector('#df-c9db24b7-7e77-41b8-8e24-c12d5b3869c4');\n",
              "          const dataTable =\n",
              "            await google.colab.kernel.invokeFunction('convertToInteractive',\n",
              "                                                     [key], {});\n",
              "          if (!dataTable) return;\n",
              "\n",
              "          const docLinkHtml = 'Like what you see? Visit the ' +\n",
              "            '<a target=\"_blank\" href=https://colab.research.google.com/notebooks/data_table.ipynb>data table notebook</a>'\n",
              "            + ' to learn more about interactive tables.';\n",
              "          element.innerHTML = '';\n",
              "          dataTable['output_type'] = 'display_data';\n",
              "          await google.colab.output.renderOutput(dataTable, element);\n",
              "          const docLink = document.createElement('div');\n",
              "          docLink.innerHTML = docLinkHtml;\n",
              "          element.appendChild(docLink);\n",
              "        }\n",
              "      </script>\n",
              "    </div>\n",
              "  </div>\n",
              "  "
            ]
          },
          "metadata": {},
          "execution_count": 3
        }
      ],
      "source": [
        "df=data.copy()\n",
        "df=df.drop(0)\n",
        "df=df.drop([\"Date\",\"Time\"],axis=1)\n",
        "\n",
        "#encoding DEFECT column\n",
        "df.Defect=df.Defect.replace({'No Defect':0, 'Tungsten Inclusion':1, 'No Defect73':0,\n",
        "       'Tungsten Inclusion72':1, 'No Defect72':0, 'No Defect77':0,\n",
        "       'No Defect79':0, 'No Defect80':0, 'Porosity':2, 'No Defect78':0,\n",
        "       'No Defect76':0, 'No Defect0':0, 'No Defect82':0, 'No Defect85':0,\n",
        "       'No Defect84':0, 'No Defect83':0, 'No Defect81':0, 'No Defect75':0,\n",
        "       'No Defect86':0, 'Porosity86':2, 'No Defect87':0, 'Tungsten Inclusion78':1,\n",
        "       'No Defect74':0, 'No Defect99':0, 'Porosity75':2, 'Tungsten Inclusion77':1,\n",
        "       'No Defect71':0, 'No Defect40':0, 'Porosity80':2, 'No Defect70':0,\n",
        "       'No Defect68':0, 'No Defect90':0, 'Tungsten Inclusion80':1,\n",
        "       'No Defect69':0, 'No Defect67':0, 'No Defect63':0, 'No Defect64':0,\n",
        "       'No Defect65':0, 'No Defect62':0, 'No Defect61':0, 'No Defect60':0,\n",
        "       'No Defect59':0, 'Porosity76':2, 'No Defect66':0, 'Tungsten Inclusion71':1,\n",
        "       'No Defect88':0, 'Tungsten Inclusion67':1, 'Tungsten Inclusion75':1,\n",
        "       'Tungsten Inclusion76':1, 'Porosity71':2, 'No Defect58':0, 'No Defect57':0})\n",
        "\n",
        "#encoding PRODUCTION column:\n",
        "df.Production=df.Production.replace({'E15002965':1, 'E15002966':2 ,'-':4,\n",
        "       15003062:5, 'E15003220':6, 'E15002881':7, 'E10002436':8, 'E50006711':9,\n",
        "       'E15003200':10, 'E15003202':11, 'E15003056':12, 'E15002963':13, 'E10002437':14,\n",
        "       'E15003219':15, 'E15003201':16, 'Test coopan':17, -15003217:18, -150033027:19})\n",
        "\n",
        "#converting object type to numeric type\n",
        "cols=['Employee Code', 'Order Operation No','Current',\n",
        "       'Humidity', 'Temperature', 'Flow', 'Job Temp', 'Voltage']\n",
        "df[cols] = df[cols].apply(pd.to_numeric, errors='coerce')\n",
        "\n",
        "#imputing null values in PRODUCTION,ORDER OPERATION NUMBER,CURRENT\n",
        "df.Production=df.Production.fillna(method=\"ffill\")\n",
        "df[\"Order Operation No\"]=df[\"Order Operation No\"].fillna(method=\"ffill\")\n",
        "df.Current=df.Current.fillna(method=\"ffill\")\n",
        "\n",
        "print(df.dtypes)\n",
        "print(\"FINDING NULL COLUMNS:\")\n",
        "print(df.isnull().any())\n",
        "\n",
        "df.head()"
      ]
    },
    {
      "cell_type": "markdown",
      "source": [
        "## FEATURE ENGINEERING\n"
      ],
      "metadata": {
        "id": "wD2sYjbbnJhM"
      }
    },
    {
      "cell_type": "code",
      "execution_count": null,
      "metadata": {
        "colab": {
          "base_uri": "https://localhost:8080/"
        },
        "id": "kp1jMXDLoZQ1",
        "outputId": "60b77566-d5ee-49b2-919c-4e88126c120b"
      },
      "outputs": [
        {
          "output_type": "stream",
          "name": "stderr",
          "text": [
            "/usr/local/lib/python3.8/dist-packages/pandas/core/arraylike.py:364: RuntimeWarning: divide by zero encountered in log\n",
            "  result = getattr(ufunc, method)(*inputs, **kwargs)\n",
            "/usr/local/lib/python3.8/dist-packages/pandas/core/arraylike.py:364: RuntimeWarning: invalid value encountered in log\n",
            "  result = getattr(ufunc, method)(*inputs, **kwargs)\n",
            "/usr/local/lib/python3.8/dist-packages/pandas/core/arraylike.py:364: RuntimeWarning: invalid value encountered in log10\n",
            "  result = getattr(ufunc, method)(*inputs, **kwargs)\n"
          ]
        },
        {
          "output_type": "execute_result",
          "data": {
            "text/plain": [
              "Employee Code    False\n",
              "Current          False\n",
              "Humidity         False\n",
              "Temperature      False\n",
              "Flow             False\n",
              "Job Temp         False\n",
              "Voltage          False\n",
              "f2               False\n",
              "f1               False\n",
              "f3               False\n",
              "f4               False\n",
              "dtype: bool"
            ]
          },
          "metadata": {},
          "execution_count": 4
        }
      ],
      "source": [
        "df1=df.copy()\n",
        "df1[\"f2\"]=np.log(df1.Voltage**0.9/df1[\"Job Temp\"]**0.1)\n",
        "df1[\"f1\"]=np.log(df1.Voltage*0.9499-df1[\"Job Temp\"]**0.1)+df1.f2-np.log10(df1.f2**25)\n",
        "df1[\"f3\"]=np.log(df1.Voltage*0.9499-df1[\"Job Temp\"]**0.1) -np.log(df1.Current**0.004)\n",
        "df1[\"f4\"]=(df1[\"Job Temp\"]<145).astype(\"int\")\n",
        "# df1[\"f5\"]=\n",
        "# corr = df1.corr()\n",
        "# corr.style.background_gradient(cmap='coolwarm')\n",
        "Y=df1[\"Defect\"]\n",
        "X=df1.drop([\"Defect\",\"Production\",\"Order Operation No\"],axis=1)\n",
        "X=X.replace([np.inf, -np.inf], 0) \n",
        "X.f1=X.f1.fillna(method=\"ffill\")\n",
        "X.f2=X.f2.fillna(method=\"ffill\")\n",
        "X.f3=X.f2.fillna(method=\"ffill\")\n",
        "X.isnull().any()"
      ]
    },
    {
      "cell_type": "markdown",
      "source": [
        "## TRAIN_TEST_SLPIT, BORDERLINE SMOTE RESAMPLING AND ML MODEL TRAINING"
      ],
      "metadata": {
        "id": "etmp29b9nPVI"
      }
    },
    {
      "cell_type": "code",
      "execution_count": null,
      "metadata": {
        "colab": {
          "base_uri": "https://localhost:8080/"
        },
        "id": "twE2LS11xtR9",
        "outputId": "afe51a64-3b60-409f-f926-467a8471bedd"
      },
      "outputs": [
        {
          "output_type": "stream",
          "name": "stdout",
          "text": [
            "y_train value counts:\n",
            "0    739602\n",
            "1      4149\n",
            "2      1029\n",
            "Name: Defect, dtype: int64\n",
            "y_test value counts:\n",
            "0    82179\n",
            "1      461\n",
            "2      114\n",
            "Name: Defect, dtype: int64\n",
            "0    739602\n",
            "1    739602\n",
            "2    739602\n",
            "Name: Defect, dtype: int64\n"
          ]
        }
      ],
      "source": [
        "#TRAIN_TEST SPLIT\n",
        "from sklearn.model_selection import train_test_split\n",
        "x_train,x_test,y_train,y_test=train_test_split(X,Y,random_state=1,test_size=0.1,stratify=Y)\n",
        "\n",
        "print(\"y_train value counts:\")\n",
        "print(y_train.value_counts())\n",
        "print(\"y_test value counts:\")\n",
        "print(y_test.value_counts())\n",
        "\n",
        "#SMOTE RESAMPLING\n",
        "\n",
        "from imblearn.over_sampling import BorderlineSMOTE\n",
        "smote=BorderlineSMOTE(sampling_strategy=\"not majority\",n_jobs=-1,k_neighbors=1,m_neighbors=2,kind=\"borderline-2\",random_state=42)\n",
        "X_sm,Y_sm=smote.fit_resample(x_train,y_train)\n",
        "print(Y_sm.value_counts())"
      ]
    },
    {
      "cell_type": "code",
      "source": [],
      "metadata": {
        "id": "OrLBKqJAoTEY"
      },
      "execution_count": null,
      "outputs": []
    },
    {
      "cell_type": "markdown",
      "source": [
        "THE MODEL BELOW IS ABLE TO PREDICT ALL THREE CLASSES"
      ],
      "metadata": {
        "id": "QlK1-FHvqGKv"
      }
    },
    {
      "cell_type": "code",
      "execution_count": null,
      "metadata": {
        "colab": {
          "base_uri": "https://localhost:8080/"
        },
        "id": "LJwCVWcuQkO-",
        "outputId": "3a50c5fe-2070-4b95-e10d-7933ebd7493b"
      },
      "outputs": [
        {
          "output_type": "stream",
          "name": "stdout",
          "text": [
            "mape: 8380916241088.73\n",
            "individual f1_score: [0.99651411 0.37799718 0.01481481]\n",
            "weighted f1_score: 0.9917161578786122\n",
            "confusion_matrix:\n",
            "[[82045   327   113]\n",
            " [  114   134     0]\n",
            " [   20     0     1]]\n",
            "classification_report:\n",
            "              precision    recall  f1-score   support\n",
            "\n",
            "           0       1.00      0.99      1.00     82485\n",
            "           1       0.29      0.54      0.38       248\n",
            "           2       0.01      0.05      0.01        21\n",
            "\n",
            "    accuracy                           0.99     82754\n",
            "   macro avg       0.43      0.53      0.46     82754\n",
            "weighted avg       1.00      0.99      0.99     82754\n",
            "\n"
          ]
        }
      ],
      "source": [
        "model8=LGBMClassifier(colsample_bytree=0.5177908906249942,\n",
        "               learning_rate=0.21034746012122046, max_bin=1023,\n",
        "               min_child_samples=19, n_estimators=968, num_leaves=331,\n",
        "               reg_alpha=0.026810451163601555, reg_lambda=0.026723380640834737,\n",
        "               verbose=-1,n_jobs=-1)\n",
        "\n",
        "model8.fit(X_sm,Y_sm)\n",
        "pred=model8.predict(x_test)\n",
        "print(\"mape:\",mape(y_test,pred))\n",
        "print(\"individual f1_score:\",f1_score(y_test,pred,average=None))\n",
        "print(\"weighted f1_score:\",f1_score(y_test,pred,average=\"weighted\"))\n",
        "print(\"confusion_matrix:\")\n",
        "print(confusion_matrix(pred,y_test))\n",
        "print(\"classification_report:\")\n",
        "print(classification_report(pred,y_test))"
      ]
    },
    {
      "cell_type": "markdown",
      "source": [
        "## SECOND MODEL WHICH CAN PREDICT TUNGSTEN DEFECT BETTER"
      ],
      "metadata": {
        "id": "M_caosbgw3dx"
      }
    },
    {
      "cell_type": "code",
      "source": [
        "data2=data.copy()\n",
        "\n",
        "data2=data2.drop(0)\n",
        "data2=data2.drop([\"Date\",\"Time\"],axis=1)\n",
        "\n",
        "#encoding DEFECT column\n",
        "data2.Defect=data2.Defect.replace({'No Defect':0, 'Tungsten Inclusion':1, 'No Defect73':0,\n",
        "       'Tungsten Inclusion72':1, 'No Defect72':0, 'No Defect77':0,\n",
        "       'No Defect79':0, 'No Defect80':0, 'Porosity':2, 'No Defect78':0,\n",
        "       'No Defect76':0, 'No Defect0':0, 'No Defect82':0, 'No Defect85':0,\n",
        "       'No Defect84':0, 'No Defect83':0, 'No Defect81':0, 'No Defect75':0,\n",
        "       'No Defect86':0, 'Porosity86':2, 'No Defect87':0, 'Tungsten Inclusion78':1,\n",
        "       'No Defect74':0, 'No Defect99':0, 'Porosity75':2, 'Tungsten Inclusion77':1,\n",
        "       'No Defect71':0, 'No Defect40':0, 'Porosity80':2, 'No Defect70':0,\n",
        "       'No Defect68':0, 'No Defect90':0, 'Tungsten Inclusion80':1,\n",
        "       'No Defect69':0, 'No Defect67':0, 'No Defect63':0, 'No Defect64':0,\n",
        "       'No Defect65':0, 'No Defect62':0, 'No Defect61':0, 'No Defect60':0,\n",
        "       'No Defect59':0, 'Porosity76':2, 'No Defect66':0, 'Tungsten Inclusion71':1,\n",
        "       'No Defect88':0, 'Tungsten Inclusion67':1, 'Tungsten Inclusion75':1,\n",
        "       'Tungsten Inclusion76':1, 'Porosity71':2, 'No Defect58':0, 'No Defect57':0})\n",
        "\n",
        "#encoding PRODUCTION column:\n",
        "data2.Production=data2.Production.replace({'E15002965':1, 'E15002966':2 ,'-':4,\n",
        "       15003062:5, 'E15003220':6, 'E15002881':7, 'E10002436':8, 'E50006711':9,\n",
        "       'E15003200':10, 'E15003202':11, 'E15003056':12, 'E15002963':13, 'E10002437':14,\n",
        "       'E15003219':15, 'E15003201':16, 'Test coopan':17, -15003217:18, -150033027:19})\n",
        "\n",
        "#converting object type to numeric type\n",
        "cols=['Employee Code', 'Order Operation No','Current',\n",
        "       'Humidity', 'Temperature', 'Flow', 'Job Temp', 'Voltage']\n",
        "data2[cols] = data2[cols].apply(pd.to_numeric, errors='coerce')\n",
        "\n",
        "#imputing null values in PRODUCTION,ORDER OPERATION NUMBER,CURRENT\n",
        "# data2.Production=data2.Production.fillna(method=\"ffill\")\n",
        "# data2[\"Order Operation No\"]=data2[\"Order Operation No\"].fillna(method=\"ffill\")\n",
        "# data2.Current=data2.Current.fillna(method=\"ffill\")\n",
        "\n",
        "#dropping the rows with missing values\n",
        "data2=data2.dropna()\n",
        "#CREATING TARGET AND FEATURE SETS\n",
        "Y=data2[\"Defect\"]\n",
        "X=data2.drop([\"Defect\",\"Production\",\"Order Operation No\",\"Temperature\",\"Flow\"],axis=1)\n",
        "print(np.unique(Y, return_counts=True))\n",
        "\n",
        "print(data2.dtypes)\n",
        "print(\"FINDING NULL COLUMNS:\")\n",
        "print(data2.isnull().any())\n",
        "\n",
        "data2.head()"
      ],
      "metadata": {
        "colab": {
          "base_uri": "https://localhost:8080/",
          "height": 645
        },
        "id": "pXhPxGvPukFL",
        "outputId": "ebc18950-ec8a-4450-be19-b5adc75b4ffe"
      },
      "execution_count": null,
      "outputs": [
        {
          "output_type": "stream",
          "name": "stdout",
          "text": [
            "(array([0, 1, 2]), array([491853,   2817,    704]))\n",
            "Employee Code           int64\n",
            "Production            float64\n",
            "Order Operation No    float64\n",
            "Current               float64\n",
            "Humidity                int64\n",
            "Temperature             int64\n",
            "Flow                  float64\n",
            "Job Temp              float64\n",
            "Voltage               float64\n",
            "Defect                  int64\n",
            "dtype: object\n",
            "FINDING NULL COLUMNS:\n",
            "Employee Code         False\n",
            "Production            False\n",
            "Order Operation No    False\n",
            "Current               False\n",
            "Humidity              False\n",
            "Temperature           False\n",
            "Flow                  False\n",
            "Job Temp              False\n",
            "Voltage               False\n",
            "Defect                False\n",
            "dtype: bool\n"
          ]
        },
        {
          "output_type": "execute_result",
          "data": {
            "text/plain": [
              "   Employee Code  Production  Order Operation No  Current  Humidity  \\\n",
              "1         382617         1.0               240.0     1.13        74   \n",
              "2         382617         1.0               240.0     1.82        74   \n",
              "3         382617         1.0               240.0     2.91        74   \n",
              "4         382617         1.0               240.0     0.04        74   \n",
              "5         382617         1.0               240.0     2.51        74   \n",
              "\n",
              "   Temperature  Flow  Job Temp  Voltage  Defect  \n",
              "1           23  0.01      29.3     15.2       0  \n",
              "2           23  0.00      29.3      0.0       1  \n",
              "3           23  0.00      29.3      0.0       0  \n",
              "4           23  0.00      29.3      0.0       0  \n",
              "5           23  0.00      27.8      0.0       0  "
            ],
            "text/html": [
              "\n",
              "  <div id=\"df-350a016f-a28c-4175-8929-18bb1bcf9a71\">\n",
              "    <div class=\"colab-df-container\">\n",
              "      <div>\n",
              "<style scoped>\n",
              "    .dataframe tbody tr th:only-of-type {\n",
              "        vertical-align: middle;\n",
              "    }\n",
              "\n",
              "    .dataframe tbody tr th {\n",
              "        vertical-align: top;\n",
              "    }\n",
              "\n",
              "    .dataframe thead th {\n",
              "        text-align: right;\n",
              "    }\n",
              "</style>\n",
              "<table border=\"1\" class=\"dataframe\">\n",
              "  <thead>\n",
              "    <tr style=\"text-align: right;\">\n",
              "      <th></th>\n",
              "      <th>Employee Code</th>\n",
              "      <th>Production</th>\n",
              "      <th>Order Operation No</th>\n",
              "      <th>Current</th>\n",
              "      <th>Humidity</th>\n",
              "      <th>Temperature</th>\n",
              "      <th>Flow</th>\n",
              "      <th>Job Temp</th>\n",
              "      <th>Voltage</th>\n",
              "      <th>Defect</th>\n",
              "    </tr>\n",
              "  </thead>\n",
              "  <tbody>\n",
              "    <tr>\n",
              "      <th>1</th>\n",
              "      <td>382617</td>\n",
              "      <td>1.0</td>\n",
              "      <td>240.0</td>\n",
              "      <td>1.13</td>\n",
              "      <td>74</td>\n",
              "      <td>23</td>\n",
              "      <td>0.01</td>\n",
              "      <td>29.3</td>\n",
              "      <td>15.2</td>\n",
              "      <td>0</td>\n",
              "    </tr>\n",
              "    <tr>\n",
              "      <th>2</th>\n",
              "      <td>382617</td>\n",
              "      <td>1.0</td>\n",
              "      <td>240.0</td>\n",
              "      <td>1.82</td>\n",
              "      <td>74</td>\n",
              "      <td>23</td>\n",
              "      <td>0.00</td>\n",
              "      <td>29.3</td>\n",
              "      <td>0.0</td>\n",
              "      <td>1</td>\n",
              "    </tr>\n",
              "    <tr>\n",
              "      <th>3</th>\n",
              "      <td>382617</td>\n",
              "      <td>1.0</td>\n",
              "      <td>240.0</td>\n",
              "      <td>2.91</td>\n",
              "      <td>74</td>\n",
              "      <td>23</td>\n",
              "      <td>0.00</td>\n",
              "      <td>29.3</td>\n",
              "      <td>0.0</td>\n",
              "      <td>0</td>\n",
              "    </tr>\n",
              "    <tr>\n",
              "      <th>4</th>\n",
              "      <td>382617</td>\n",
              "      <td>1.0</td>\n",
              "      <td>240.0</td>\n",
              "      <td>0.04</td>\n",
              "      <td>74</td>\n",
              "      <td>23</td>\n",
              "      <td>0.00</td>\n",
              "      <td>29.3</td>\n",
              "      <td>0.0</td>\n",
              "      <td>0</td>\n",
              "    </tr>\n",
              "    <tr>\n",
              "      <th>5</th>\n",
              "      <td>382617</td>\n",
              "      <td>1.0</td>\n",
              "      <td>240.0</td>\n",
              "      <td>2.51</td>\n",
              "      <td>74</td>\n",
              "      <td>23</td>\n",
              "      <td>0.00</td>\n",
              "      <td>27.8</td>\n",
              "      <td>0.0</td>\n",
              "      <td>0</td>\n",
              "    </tr>\n",
              "  </tbody>\n",
              "</table>\n",
              "</div>\n",
              "      <button class=\"colab-df-convert\" onclick=\"convertToInteractive('df-350a016f-a28c-4175-8929-18bb1bcf9a71')\"\n",
              "              title=\"Convert this dataframe to an interactive table.\"\n",
              "              style=\"display:none;\">\n",
              "        \n",
              "  <svg xmlns=\"http://www.w3.org/2000/svg\" height=\"24px\"viewBox=\"0 0 24 24\"\n",
              "       width=\"24px\">\n",
              "    <path d=\"M0 0h24v24H0V0z\" fill=\"none\"/>\n",
              "    <path d=\"M18.56 5.44l.94 2.06.94-2.06 2.06-.94-2.06-.94-.94-2.06-.94 2.06-2.06.94zm-11 1L8.5 8.5l.94-2.06 2.06-.94-2.06-.94L8.5 2.5l-.94 2.06-2.06.94zm10 10l.94 2.06.94-2.06 2.06-.94-2.06-.94-.94-2.06-.94 2.06-2.06.94z\"/><path d=\"M17.41 7.96l-1.37-1.37c-.4-.4-.92-.59-1.43-.59-.52 0-1.04.2-1.43.59L10.3 9.45l-7.72 7.72c-.78.78-.78 2.05 0 2.83L4 21.41c.39.39.9.59 1.41.59.51 0 1.02-.2 1.41-.59l7.78-7.78 2.81-2.81c.8-.78.8-2.07 0-2.86zM5.41 20L4 18.59l7.72-7.72 1.47 1.35L5.41 20z\"/>\n",
              "  </svg>\n",
              "      </button>\n",
              "      \n",
              "  <style>\n",
              "    .colab-df-container {\n",
              "      display:flex;\n",
              "      flex-wrap:wrap;\n",
              "      gap: 12px;\n",
              "    }\n",
              "\n",
              "    .colab-df-convert {\n",
              "      background-color: #E8F0FE;\n",
              "      border: none;\n",
              "      border-radius: 50%;\n",
              "      cursor: pointer;\n",
              "      display: none;\n",
              "      fill: #1967D2;\n",
              "      height: 32px;\n",
              "      padding: 0 0 0 0;\n",
              "      width: 32px;\n",
              "    }\n",
              "\n",
              "    .colab-df-convert:hover {\n",
              "      background-color: #E2EBFA;\n",
              "      box-shadow: 0px 1px 2px rgba(60, 64, 67, 0.3), 0px 1px 3px 1px rgba(60, 64, 67, 0.15);\n",
              "      fill: #174EA6;\n",
              "    }\n",
              "\n",
              "    [theme=dark] .colab-df-convert {\n",
              "      background-color: #3B4455;\n",
              "      fill: #D2E3FC;\n",
              "    }\n",
              "\n",
              "    [theme=dark] .colab-df-convert:hover {\n",
              "      background-color: #434B5C;\n",
              "      box-shadow: 0px 1px 3px 1px rgba(0, 0, 0, 0.15);\n",
              "      filter: drop-shadow(0px 1px 2px rgba(0, 0, 0, 0.3));\n",
              "      fill: #FFFFFF;\n",
              "    }\n",
              "  </style>\n",
              "\n",
              "      <script>\n",
              "        const buttonEl =\n",
              "          document.querySelector('#df-350a016f-a28c-4175-8929-18bb1bcf9a71 button.colab-df-convert');\n",
              "        buttonEl.style.display =\n",
              "          google.colab.kernel.accessAllowed ? 'block' : 'none';\n",
              "\n",
              "        async function convertToInteractive(key) {\n",
              "          const element = document.querySelector('#df-350a016f-a28c-4175-8929-18bb1bcf9a71');\n",
              "          const dataTable =\n",
              "            await google.colab.kernel.invokeFunction('convertToInteractive',\n",
              "                                                     [key], {});\n",
              "          if (!dataTable) return;\n",
              "\n",
              "          const docLinkHtml = 'Like what you see? Visit the ' +\n",
              "            '<a target=\"_blank\" href=https://colab.research.google.com/notebooks/data_table.ipynb>data table notebook</a>'\n",
              "            + ' to learn more about interactive tables.';\n",
              "          element.innerHTML = '';\n",
              "          dataTable['output_type'] = 'display_data';\n",
              "          await google.colab.output.renderOutput(dataTable, element);\n",
              "          const docLink = document.createElement('div');\n",
              "          docLink.innerHTML = docLinkHtml;\n",
              "          element.appendChild(docLink);\n",
              "        }\n",
              "      </script>\n",
              "    </div>\n",
              "  </div>\n",
              "  "
            ]
          },
          "metadata": {},
          "execution_count": 3
        }
      ]
    },
    {
      "cell_type": "code",
      "source": [
        "df_1=data2.copy()\n",
        "df_1[\"f2\"]=np.log(df_1.Voltage**0.9/df_1[\"Job Temp\"]**0.1)\n",
        "df_1[\"f1\"]=np.log(df_1.Voltage*0.9499-df_1[\"Job Temp\"]**0.1)+df_1.f2-np.log10(df_1.f2**25)\n",
        "df_1[\"f3\"]=np.log(df_1.Voltage*0.9499-df_1[\"Job Temp\"]**0.1) -np.log(df_1.Current**0.004)\n",
        "df_1[\"f4\"]=(df_1[\"Job Temp\"]<145).astype(\"int\")\n",
        "# df1[\"f5\"]=\n",
        "# corr = df1.corr()\n",
        "# corr.style.background_gradient(cmap='coolwarm')\n",
        "Y1=df_1[\"Defect\"]\n",
        "X1=df_1.drop([\"Defect\",\"Production\",\"Order Operation No\"],axis=1)\n",
        "X1=X1.replace([np.inf, -np.inf], 0) \n",
        "X1.f1=X1.f1.fillna(method=\"ffill\")\n",
        "X1.f2=X1.f2.fillna(method=\"ffill\")\n",
        "X1.f3=X1.f2.fillna(method=\"ffill\")\n",
        "X1.isnull().any()"
      ],
      "metadata": {
        "colab": {
          "base_uri": "https://localhost:8080/"
        },
        "id": "AfX06udfwHgN",
        "outputId": "1feca97d-617e-484c-baa5-a5bf4a2eb2a6"
      },
      "execution_count": null,
      "outputs": [
        {
          "output_type": "stream",
          "name": "stderr",
          "text": [
            "/usr/local/lib/python3.8/dist-packages/pandas/core/arraylike.py:364: RuntimeWarning: divide by zero encountered in log\n",
            "  result = getattr(ufunc, method)(*inputs, **kwargs)\n",
            "/usr/local/lib/python3.8/dist-packages/pandas/core/arraylike.py:364: RuntimeWarning: invalid value encountered in log\n",
            "  result = getattr(ufunc, method)(*inputs, **kwargs)\n",
            "/usr/local/lib/python3.8/dist-packages/pandas/core/arraylike.py:364: RuntimeWarning: invalid value encountered in log10\n",
            "  result = getattr(ufunc, method)(*inputs, **kwargs)\n"
          ]
        },
        {
          "output_type": "execute_result",
          "data": {
            "text/plain": [
              "Employee Code    False\n",
              "Current          False\n",
              "Humidity         False\n",
              "Temperature      False\n",
              "Flow             False\n",
              "Job Temp         False\n",
              "Voltage          False\n",
              "f2               False\n",
              "f1               False\n",
              "f3               False\n",
              "f4               False\n",
              "dtype: bool"
            ]
          },
          "metadata": {},
          "execution_count": 4
        }
      ]
    },
    {
      "cell_type": "code",
      "source": [
        "#TRAIN_TEST SPLIT\n",
        "from sklearn.model_selection import train_test_split\n",
        "x_train,x_test,y_train,y_test=train_test_split(X1,Y1,random_state=1,test_size=0.1,stratify=Y1)\n",
        "\n",
        "print(\"y_train value counts:\")\n",
        "print(y_train.value_counts())\n",
        "print(\"y_test value counts:\")\n",
        "print(y_test.value_counts())\n",
        "\n",
        "#SMOTE RESAMPLING\n",
        "\n",
        "from imblearn.over_sampling import BorderlineSMOTE\n",
        "smote=BorderlineSMOTE(sampling_strategy=\"not majority\",n_jobs=-1,k_neighbors=1,m_neighbors=2,kind=\"borderline-2\",random_state=42)\n",
        "X_sm1,Y_sm1=smote.fit_resample(x_train,y_train)\n",
        "print(Y_sm1.value_counts())"
      ],
      "metadata": {
        "colab": {
          "base_uri": "https://localhost:8080/"
        },
        "id": "TmT10_hOyDIr",
        "outputId": "a9670f7e-8a65-467a-cfad-196fc8644530"
      },
      "execution_count": null,
      "outputs": [
        {
          "output_type": "stream",
          "name": "stdout",
          "text": [
            "y_train value counts:\n",
            "0    442667\n",
            "1      2535\n",
            "2       634\n",
            "Name: Defect, dtype: int64\n",
            "y_test value counts:\n",
            "0    49186\n",
            "1      282\n",
            "2       70\n",
            "Name: Defect, dtype: int64\n",
            "0    442667\n",
            "2    442667\n",
            "1    442666\n",
            "Name: Defect, dtype: int64\n"
          ]
        }
      ]
    },
    {
      "cell_type": "code",
      "source": [
        "model9=LGBMClassifier(colsample_bytree=0.5177908906249942,\n",
        "               learning_rate=0.21034746012122046, max_bin=1023,\n",
        "               min_child_samples=19, n_estimators=968, num_leaves=331,\n",
        "               reg_alpha=0.026810451163601555, reg_lambda=0.026723380640834737,\n",
        "               verbose=-1,n_jobs=-1)\n",
        "\n",
        "model9.fit(X_sm1,Y_sm1)\n",
        "pred=model9.predict(x_test)\n",
        "print(\"mape:\",mape(y_test,pred))\n",
        "print(\"individual f1_score:\",f1_score(y_test,pred,average=None))\n",
        "print(\"weighted f1_score:\",f1_score(y_test,pred,average=\"weighted\"))\n",
        "print(\"confusion_matrix:\")\n",
        "print(confusion_matrix(pred,y_test))\n",
        "print(\"classification_report:\")\n",
        "print(classification_report(pred,y_test))"
      ],
      "metadata": {
        "colab": {
          "base_uri": "https://localhost:8080/"
        },
        "id": "Pl6-D-AmoW-C",
        "outputId": "ace4b16c-d896-45a6-d177-3917d4d2f178"
      },
      "execution_count": null,
      "outputs": [
        {
          "output_type": "stream",
          "name": "stdout",
          "text": [
            "mape: 8636641862816.369\n",
            "individual f1_score: [0.99660047 0.44       0.        ]\n",
            "weighted f1_score: 0.9920237122999509\n",
            "confusion_matrix:\n",
            "[[49104   183    70]\n",
            " [   69    99     0]\n",
            " [   13     0     0]]\n",
            "classification_report:\n",
            "              precision    recall  f1-score   support\n",
            "\n",
            "           0       1.00      0.99      1.00     49357\n",
            "           1       0.35      0.59      0.44       168\n",
            "           2       0.00      0.00      0.00        13\n",
            "\n",
            "    accuracy                           0.99     49538\n",
            "   macro avg       0.45      0.53      0.48     49538\n",
            "weighted avg       1.00      0.99      0.99     49538\n",
            "\n"
          ]
        }
      ]
    },
    {
      "cell_type": "markdown",
      "source": [
        "FITTING THE WHOLE DATASET IN MODEL 10 to test the final test data on the date of competition"
      ],
      "metadata": {
        "id": "rGn2r57Hgi3G"
      }
    },
    {
      "cell_type": "code",
      "source": [
        "from imblearn.over_sampling import BorderlineSMOTE\n",
        "smote=BorderlineSMOTE(sampling_strategy=\"not majority\",n_jobs=-1,k_neighbors=1,m_neighbors=2,kind=\"borderline-2\",random_state=42)\n",
        "X_sm2,Y_sm2=smote.fit_resample(X1,Y1)\n",
        "print(Y_sm2.value_counts())"
      ],
      "metadata": {
        "colab": {
          "base_uri": "https://localhost:8080/"
        },
        "id": "zVlyFUA0f4tb",
        "outputId": "6580d131-c820-42d0-f9b3-dd9920e35a56"
      },
      "execution_count": null,
      "outputs": [
        {
          "output_type": "stream",
          "name": "stdout",
          "text": [
            "0    491853\n",
            "1    491853\n",
            "2    491853\n",
            "Name: Defect, dtype: int64\n"
          ]
        }
      ]
    },
    {
      "cell_type": "code",
      "source": [
        "model10=LGBMClassifier(colsample_bytree=0.5177908906249942,\n",
        "               learning_rate=0.21034746012122046, max_bin=1023,\n",
        "               min_child_samples=19, n_estimators=968, num_leaves=331,\n",
        "               reg_alpha=0.026810451163601555, reg_lambda=0.026723380640834737,\n",
        "               verbose=-1,n_jobs=-1)\n",
        "\n",
        "model10.fit(X_sm2,Y_sm2)\n",
        "pred=model10.predict(x_test)\n",
        "print(\"mape:\",mape(y_test,pred))\n",
        "print(\"individual f1_score:\",f1_score(y_test,pred,average=None))\n",
        "print(\"weighted f1_score:\",f1_score(y_test,pred,average=\"weighted\"))\n",
        "print(\"confusion_matrix:\")\n",
        "print(confusion_matrix(pred,y_test))\n",
        "print(\"classification_report:\")\n",
        "print(classification_report(pred,y_test))"
      ],
      "metadata": {
        "colab": {
          "base_uri": "https://localhost:8080/"
        },
        "id": "3jYXATxifN9L",
        "outputId": "7fa670a2-2216-409c-96e3-d90aa584e567"
      },
      "execution_count": null,
      "outputs": [
        {
          "output_type": "stream",
          "name": "stdout",
          "text": [
            "mape: 6.055957043078041e-05\n",
            "individual f1_score: [0.9999695  1.         0.97810219]\n",
            "weighted f1_score: 0.999938778291978\n",
            "confusion_matrix:\n",
            "[[49186     0     3]\n",
            " [    0   282     0]\n",
            " [    0     0    67]]\n",
            "classification_report:\n",
            "              precision    recall  f1-score   support\n",
            "\n",
            "           0       1.00      1.00      1.00     49189\n",
            "           1       1.00      1.00      1.00       282\n",
            "           2       0.96      1.00      0.98        67\n",
            "\n",
            "    accuracy                           1.00     49538\n",
            "   macro avg       0.99      1.00      0.99     49538\n",
            "weighted avg       1.00      1.00      1.00     49538\n",
            "\n"
          ]
        }
      ]
    },
    {
      "cell_type": "code",
      "source": [
        "from joblib import Parallel, delayed\n",
        "import joblib\n",
        "  \n",
        "  \n",
        "# # Save the model as a pickle in a file\n",
        "# joblib.dump(model8, '/content/drive/MyDrive/model weights/model8.pkl')\n",
        "# joblib.dump(model9, '/content/drive/MyDrive/model weights/model9.pkl')\n",
        "# joblib.dump(model10, '/content/drive/MyDrive/model weights/model10.pkl')\n",
        "\n",
        "  \n",
        "# Load the model from the file\n",
        "# knn_from_joblib = joblib.load('filename.pkl')\n",
        "  \n",
        "# # Use the loaded model to make predictions\n",
        "# knn_from_joblib.predict(X_test)"
      ],
      "metadata": {
        "id": "KQgIu85z7X83"
      },
      "execution_count": 2,
      "outputs": []
    },
    {
      "cell_type": "code",
      "source": [
        "# Load the model from the file\n",
        "mod = joblib.load('/content/model10.pkl')\n",
        "  \n",
        "# # Use the loaded model to make predictions\n",
        "\n",
        "# pred=mod.predict(x_test)\n",
        "# print(\"mape:\",mape(y_test,pred))\n",
        "# print(\"individual f1_score:\",f1_score(y_test,pred,average=None))\n",
        "# print(\"weighted f1_score:\",f1_score(y_test,pred,average=\"weighted\"))\n",
        "# print(\"confusion_matrix:\")\n",
        "# print(confusion_matrix(pred,y_test))\n",
        "# print(\"classification_report:\")\n",
        "# print(classification_report(pred,y_test))"
      ],
      "metadata": {
        "id": "d9GFi2AWl-Ef"
      },
      "execution_count": 3,
      "outputs": []
    },
    {
      "cell_type": "code",
      "source": [
        "testfile=pd.read_csv(\"/content/CBM_WM6undefined_Oct_30.csv\", on_bad_lines='skip')\n",
        "testfile.head()"
      ],
      "metadata": {
        "id": "ZdW--qLCm5eu",
        "colab": {
          "base_uri": "https://localhost:8080/",
          "height": 243
        },
        "outputId": "a068bca3-34ec-4a8e-f222-7099a63ab3ec"
      },
      "execution_count": 11,
      "outputs": [
        {
          "output_type": "stream",
          "name": "stderr",
          "text": [
            "/usr/local/lib/python3.8/dist-packages/IPython/core/interactiveshell.py:3326: DtypeWarning: Columns (0,1,4) have mixed types.Specify dtype option on import or set low_memory=False.\n",
            "  exec(code_obj, self.user_global_ns, self.user_ns)\n"
          ]
        },
        {
          "output_type": "execute_result",
          "data": {
            "text/plain": [
              "  Company Number   Employee    Machine Production OrderOperation No  \\\n",
              "0      undefined  undefined  undefined  undefined         undefined   \n",
              "1      undefined  undefined  undefined  undefined         undefined   \n",
              "2      undefined  undefined  undefined  undefined         undefined   \n",
              "3      undefined  undefined  undefined  undefined         undefined   \n",
              "4      undefined  undefined  undefined  undefined         undefined   \n",
              "\n",
              "         Date         Time   Current  humidity  temperature   flow  Job Temp  \\\n",
              "0  10-11-2022   7:37:8:730  39.15000        57           23  0.093      30.7   \n",
              "1  10-11-2022   7:37:9:231  39.15000        57           23  0.093      30.7   \n",
              "2  10-11-2022   7:37:9:731  33.28125        57           23  0.000      29.4   \n",
              "3  10-11-2022  7:37:10:231  33.28125        57           23  0.000      29.4   \n",
              "4  10-11-2022  7:37:10:733  17.83125        57           23  0.125      30.0   \n",
              "\n",
              "   Voltage     Defect  \n",
              "0   11.585  No defect  \n",
              "1   11.585  No defect  \n",
              "2   10.087  No defect  \n",
              "3   10.087  No defect  \n",
              "4    9.773  No defect  "
            ],
            "text/html": [
              "\n",
              "  <div id=\"df-b49efb49-9a9e-4b9a-a708-ad92e74dc37d\">\n",
              "    <div class=\"colab-df-container\">\n",
              "      <div>\n",
              "<style scoped>\n",
              "    .dataframe tbody tr th:only-of-type {\n",
              "        vertical-align: middle;\n",
              "    }\n",
              "\n",
              "    .dataframe tbody tr th {\n",
              "        vertical-align: top;\n",
              "    }\n",
              "\n",
              "    .dataframe thead th {\n",
              "        text-align: right;\n",
              "    }\n",
              "</style>\n",
              "<table border=\"1\" class=\"dataframe\">\n",
              "  <thead>\n",
              "    <tr style=\"text-align: right;\">\n",
              "      <th></th>\n",
              "      <th>Company Number</th>\n",
              "      <th>Employee</th>\n",
              "      <th>Machine</th>\n",
              "      <th>Production</th>\n",
              "      <th>OrderOperation No</th>\n",
              "      <th>Date</th>\n",
              "      <th>Time</th>\n",
              "      <th>Current</th>\n",
              "      <th>humidity</th>\n",
              "      <th>temperature</th>\n",
              "      <th>flow</th>\n",
              "      <th>Job Temp</th>\n",
              "      <th>Voltage</th>\n",
              "      <th>Defect</th>\n",
              "    </tr>\n",
              "  </thead>\n",
              "  <tbody>\n",
              "    <tr>\n",
              "      <th>0</th>\n",
              "      <td>undefined</td>\n",
              "      <td>undefined</td>\n",
              "      <td>undefined</td>\n",
              "      <td>undefined</td>\n",
              "      <td>undefined</td>\n",
              "      <td>10-11-2022</td>\n",
              "      <td>7:37:8:730</td>\n",
              "      <td>39.15000</td>\n",
              "      <td>57</td>\n",
              "      <td>23</td>\n",
              "      <td>0.093</td>\n",
              "      <td>30.7</td>\n",
              "      <td>11.585</td>\n",
              "      <td>No defect</td>\n",
              "    </tr>\n",
              "    <tr>\n",
              "      <th>1</th>\n",
              "      <td>undefined</td>\n",
              "      <td>undefined</td>\n",
              "      <td>undefined</td>\n",
              "      <td>undefined</td>\n",
              "      <td>undefined</td>\n",
              "      <td>10-11-2022</td>\n",
              "      <td>7:37:9:231</td>\n",
              "      <td>39.15000</td>\n",
              "      <td>57</td>\n",
              "      <td>23</td>\n",
              "      <td>0.093</td>\n",
              "      <td>30.7</td>\n",
              "      <td>11.585</td>\n",
              "      <td>No defect</td>\n",
              "    </tr>\n",
              "    <tr>\n",
              "      <th>2</th>\n",
              "      <td>undefined</td>\n",
              "      <td>undefined</td>\n",
              "      <td>undefined</td>\n",
              "      <td>undefined</td>\n",
              "      <td>undefined</td>\n",
              "      <td>10-11-2022</td>\n",
              "      <td>7:37:9:731</td>\n",
              "      <td>33.28125</td>\n",
              "      <td>57</td>\n",
              "      <td>23</td>\n",
              "      <td>0.000</td>\n",
              "      <td>29.4</td>\n",
              "      <td>10.087</td>\n",
              "      <td>No defect</td>\n",
              "    </tr>\n",
              "    <tr>\n",
              "      <th>3</th>\n",
              "      <td>undefined</td>\n",
              "      <td>undefined</td>\n",
              "      <td>undefined</td>\n",
              "      <td>undefined</td>\n",
              "      <td>undefined</td>\n",
              "      <td>10-11-2022</td>\n",
              "      <td>7:37:10:231</td>\n",
              "      <td>33.28125</td>\n",
              "      <td>57</td>\n",
              "      <td>23</td>\n",
              "      <td>0.000</td>\n",
              "      <td>29.4</td>\n",
              "      <td>10.087</td>\n",
              "      <td>No defect</td>\n",
              "    </tr>\n",
              "    <tr>\n",
              "      <th>4</th>\n",
              "      <td>undefined</td>\n",
              "      <td>undefined</td>\n",
              "      <td>undefined</td>\n",
              "      <td>undefined</td>\n",
              "      <td>undefined</td>\n",
              "      <td>10-11-2022</td>\n",
              "      <td>7:37:10:733</td>\n",
              "      <td>17.83125</td>\n",
              "      <td>57</td>\n",
              "      <td>23</td>\n",
              "      <td>0.125</td>\n",
              "      <td>30.0</td>\n",
              "      <td>9.773</td>\n",
              "      <td>No defect</td>\n",
              "    </tr>\n",
              "  </tbody>\n",
              "</table>\n",
              "</div>\n",
              "      <button class=\"colab-df-convert\" onclick=\"convertToInteractive('df-b49efb49-9a9e-4b9a-a708-ad92e74dc37d')\"\n",
              "              title=\"Convert this dataframe to an interactive table.\"\n",
              "              style=\"display:none;\">\n",
              "        \n",
              "  <svg xmlns=\"http://www.w3.org/2000/svg\" height=\"24px\"viewBox=\"0 0 24 24\"\n",
              "       width=\"24px\">\n",
              "    <path d=\"M0 0h24v24H0V0z\" fill=\"none\"/>\n",
              "    <path d=\"M18.56 5.44l.94 2.06.94-2.06 2.06-.94-2.06-.94-.94-2.06-.94 2.06-2.06.94zm-11 1L8.5 8.5l.94-2.06 2.06-.94-2.06-.94L8.5 2.5l-.94 2.06-2.06.94zm10 10l.94 2.06.94-2.06 2.06-.94-2.06-.94-.94-2.06-.94 2.06-2.06.94z\"/><path d=\"M17.41 7.96l-1.37-1.37c-.4-.4-.92-.59-1.43-.59-.52 0-1.04.2-1.43.59L10.3 9.45l-7.72 7.72c-.78.78-.78 2.05 0 2.83L4 21.41c.39.39.9.59 1.41.59.51 0 1.02-.2 1.41-.59l7.78-7.78 2.81-2.81c.8-.78.8-2.07 0-2.86zM5.41 20L4 18.59l7.72-7.72 1.47 1.35L5.41 20z\"/>\n",
              "  </svg>\n",
              "      </button>\n",
              "      \n",
              "  <style>\n",
              "    .colab-df-container {\n",
              "      display:flex;\n",
              "      flex-wrap:wrap;\n",
              "      gap: 12px;\n",
              "    }\n",
              "\n",
              "    .colab-df-convert {\n",
              "      background-color: #E8F0FE;\n",
              "      border: none;\n",
              "      border-radius: 50%;\n",
              "      cursor: pointer;\n",
              "      display: none;\n",
              "      fill: #1967D2;\n",
              "      height: 32px;\n",
              "      padding: 0 0 0 0;\n",
              "      width: 32px;\n",
              "    }\n",
              "\n",
              "    .colab-df-convert:hover {\n",
              "      background-color: #E2EBFA;\n",
              "      box-shadow: 0px 1px 2px rgba(60, 64, 67, 0.3), 0px 1px 3px 1px rgba(60, 64, 67, 0.15);\n",
              "      fill: #174EA6;\n",
              "    }\n",
              "\n",
              "    [theme=dark] .colab-df-convert {\n",
              "      background-color: #3B4455;\n",
              "      fill: #D2E3FC;\n",
              "    }\n",
              "\n",
              "    [theme=dark] .colab-df-convert:hover {\n",
              "      background-color: #434B5C;\n",
              "      box-shadow: 0px 1px 3px 1px rgba(0, 0, 0, 0.15);\n",
              "      filter: drop-shadow(0px 1px 2px rgba(0, 0, 0, 0.3));\n",
              "      fill: #FFFFFF;\n",
              "    }\n",
              "  </style>\n",
              "\n",
              "      <script>\n",
              "        const buttonEl =\n",
              "          document.querySelector('#df-b49efb49-9a9e-4b9a-a708-ad92e74dc37d button.colab-df-convert');\n",
              "        buttonEl.style.display =\n",
              "          google.colab.kernel.accessAllowed ? 'block' : 'none';\n",
              "\n",
              "        async function convertToInteractive(key) {\n",
              "          const element = document.querySelector('#df-b49efb49-9a9e-4b9a-a708-ad92e74dc37d');\n",
              "          const dataTable =\n",
              "            await google.colab.kernel.invokeFunction('convertToInteractive',\n",
              "                                                     [key], {});\n",
              "          if (!dataTable) return;\n",
              "\n",
              "          const docLinkHtml = 'Like what you see? Visit the ' +\n",
              "            '<a target=\"_blank\" href=https://colab.research.google.com/notebooks/data_table.ipynb>data table notebook</a>'\n",
              "            + ' to learn more about interactive tables.';\n",
              "          element.innerHTML = '';\n",
              "          dataTable['output_type'] = 'display_data';\n",
              "          await google.colab.output.renderOutput(dataTable, element);\n",
              "          const docLink = document.createElement('div');\n",
              "          docLink.innerHTML = docLinkHtml;\n",
              "          element.appendChild(docLink);\n",
              "        }\n",
              "      </script>\n",
              "    </div>\n",
              "  </div>\n",
              "  "
            ]
          },
          "metadata": {},
          "execution_count": 11
        }
      ]
    },
    {
      "cell_type": "markdown",
      "source": [
        "testfilepreprocessing\n"
      ],
      "metadata": {
        "id": "WXO9RZd-ur8J"
      }
    },
    {
      "cell_type": "code",
      "source": [
        "testfile.columns"
      ],
      "metadata": {
        "colab": {
          "base_uri": "https://localhost:8080/"
        },
        "id": "H9SEAgbKVu3_",
        "outputId": "af5f3fbb-10f1-4427-8313-dfa3711af9da"
      },
      "execution_count": 13,
      "outputs": [
        {
          "output_type": "execute_result",
          "data": {
            "text/plain": [
              "Index(['Company Number', 'Employee', 'Machine', 'Production',\n",
              "       'OrderOperation No', 'Date', 'Time', 'Current', 'humidity',\n",
              "       'temperature', 'flow', 'Job Temp', 'Voltage', 'Defect'],\n",
              "      dtype='object')"
            ]
          },
          "metadata": {},
          "execution_count": 13
        }
      ]
    },
    {
      "cell_type": "code",
      "source": [
        "df3=testfile.copy()\n",
        "df3=df3.drop(0)\n",
        "df3=df3.drop([\"Date\",\"Time\",'Machine',\"OrderOperation No\",\"Production\",],axis=1)\n",
        "\n",
        "#encoding DEFECT column\n",
        "df3.Defect=df3.Defect.replace({'No Defect':0,\"No defect\":0,'Tungsten Inclusion':1, 'No Defect73':0,\n",
        "       'Tungsten Inclusion72':1, 'No Defect72':0, 'No Defect77':0,\n",
        "       'No Defect79':0, 'No Defect80':0, 'Porosity':2, 'No Defect78':0,\n",
        "       'No Defect76':0, 'No Defect0':0, 'No Defect82':0, 'No Defect85':0,\n",
        "       'No Defect84':0, 'No Defect83':0, 'No Defect81':0, 'No Defect75':0,\n",
        "       'No Defect86':0, 'Porosity86':2, 'No Defect87':0, 'Tungsten Inclusion78':1,\n",
        "       'No Defect74':0, 'No Defect99':0, 'Porosity75':2, 'Tungsten Inclusion77':1,\n",
        "       'No Defect71':0, 'No Defect40':0, 'Porosity80':2, 'No Defect70':0,\n",
        "       'No Defect68':0, 'No Defect90':0, 'Tungsten Inclusion80':1,\n",
        "       'No Defect69':0, 'No Defect67':0, 'No Defect63':0, 'No Defect64':0,\n",
        "       'No Defect65':0, 'No Defect62':0, 'No Defect61':0, 'No Defect60':0,\n",
        "       'No Defect59':0, 'Porosity76':2, 'No Defect66':0, 'Tungsten Inclusion71':1,\n",
        "       'No Defect88':0, 'Tungsten Inclusion67':1, 'Tungsten Inclusion75':1,\n",
        "       'Tungsten Inclusion76':1, 'Porosity71':2, 'No Defect58':0, 'No Defect57':0})\n",
        "\n",
        "#encoding PRODUCTION column:\n",
        "# df3.Production=df.Production.replace({'E15002965':1, 'E15002966':2 ,'-':4,\n",
        "#        15003062:5, 'E15003220':6, 'E15002881':7, 'E10002436':8, 'E50006711':9,\n",
        "#        'E15003200':10, 'E15003202':11, 'E15003056':12, 'E15002963':13, 'E10002437':14,\n",
        "#        'E15003219':15, 'E15003201':16, 'Test coopan':17, -15003217:18, -150033027:19})\n",
        "\n",
        "#converting object type to numeric type\n",
        "cols=['Employee','Current',\n",
        "       'humidity', 'temperature', 'flow', 'Job Temp', 'Voltage']\n",
        "df3[cols] = df3[cols].apply(pd.to_numeric, errors='coerce')\n",
        "\n",
        "\n",
        "\n",
        "\n",
        "df3=df3.fillna(method=\"ffill\")"
      ],
      "metadata": {
        "id": "11Nv6eljuukE"
      },
      "execution_count": 29,
      "outputs": []
    },
    {
      "cell_type": "markdown",
      "source": [
        "making new features from pre existing features in testfile"
      ],
      "metadata": {
        "id": "UgfoYNcWwKmc"
      }
    },
    {
      "cell_type": "code",
      "source": [
        "df3[\"f2\"]=np.log(df3.Voltage**0.9/df3[\"Job Temp\"]**0.1)\n",
        "df3[\"f1\"]=np.log(df3.Voltage*0.9499-df3[\"Job Temp\"]**0.1)+df3.f2-np.log10(df3.f2**25)\n",
        "df3[\"f3\"]=np.log(df3.Voltage*0.9499-df3[\"Job Temp\"]**0.1) -np.log(df3.Current**0.004)\n",
        "df3[\"f4\"]=(df3[\"Job Temp\"]<145).astype(\"int\")\n",
        "# df3=df3.drop([\"Defect\",\"Production\",\"Order Operation No\"],axis=1)\n",
        "df3=df3.replace([np.inf, -np.inf], 0)"
      ],
      "metadata": {
        "id": "-c4MLnNjvye6",
        "colab": {
          "base_uri": "https://localhost:8080/"
        },
        "outputId": "e1688044-5edc-4569-fad0-c62edf763f9f"
      },
      "execution_count": 30,
      "outputs": [
        {
          "output_type": "stream",
          "name": "stderr",
          "text": [
            "/usr/local/lib/python3.8/dist-packages/pandas/core/arraylike.py:364: RuntimeWarning: divide by zero encountered in log\n",
            "  result = getattr(ufunc, method)(*inputs, **kwargs)\n",
            "/usr/local/lib/python3.8/dist-packages/pandas/core/arraylike.py:364: RuntimeWarning: invalid value encountered in log\n",
            "  result = getattr(ufunc, method)(*inputs, **kwargs)\n",
            "/usr/local/lib/python3.8/dist-packages/pandas/core/arraylike.py:364: RuntimeWarning: invalid value encountered in log10\n",
            "  result = getattr(ufunc, method)(*inputs, **kwargs)\n"
          ]
        }
      ]
    },
    {
      "cell_type": "code",
      "source": [
        "y_test=df3[\"Defect\"]\n",
        "x_test=df3.drop([\"Defect\",\"Company Number\"],axis=1)\n"
      ],
      "metadata": {
        "id": "xuFihZoAwA0U"
      },
      "execution_count": 31,
      "outputs": []
    },
    {
      "cell_type": "code",
      "source": [
        "x_test.isnull().any()"
      ],
      "metadata": {
        "colab": {
          "base_uri": "https://localhost:8080/"
        },
        "id": "KQTRnco8W7RX",
        "outputId": "829fbfce-bcfc-4e65-df94-ab4d6ee3d1d0"
      },
      "execution_count": 32,
      "outputs": [
        {
          "output_type": "execute_result",
          "data": {
            "text/plain": [
              "Employee        True\n",
              "Current        False\n",
              "humidity       False\n",
              "temperature    False\n",
              "flow           False\n",
              "Job Temp       False\n",
              "Voltage        False\n",
              "f2              True\n",
              "f1              True\n",
              "f3              True\n",
              "f4             False\n",
              "dtype: bool"
            ]
          },
          "metadata": {},
          "execution_count": 32
        }
      ]
    },
    {
      "cell_type": "code",
      "source": [
        "df3.Defect.unique()"
      ],
      "metadata": {
        "colab": {
          "base_uri": "https://localhost:8080/"
        },
        "id": "0vINdjT4XogQ",
        "outputId": "4c7e9604-b511-44ad-cc20-dc01e697d45c"
      },
      "execution_count": 33,
      "outputs": [
        {
          "output_type": "execute_result",
          "data": {
            "text/plain": [
              "array([0, 1])"
            ]
          },
          "metadata": {},
          "execution_count": 33
        }
      ]
    },
    {
      "cell_type": "code",
      "source": [
        "pred=mod.predict(x_test)\n",
        "print(\"mape:\",mape(y_test,pred))\n",
        "print(\"individual f1_score:\",f1_score(y_test,pred,average=None))\n",
        "print(\"weighted f1_score:\",f1_score(y_test,pred,average=\"weighted\"))\n",
        "print(\"confusion_matrix:\")\n",
        "print(confusion_matrix(pred,y_test))\n",
        "print(\"classification_report:\")\n",
        "print(classification_report(pred,y_test))"
      ],
      "metadata": {
        "id": "9sQS9xhGwZP8",
        "colab": {
          "base_uri": "https://localhost:8080/"
        },
        "outputId": "74f4bb83-f3d3-4cd7-a21b-567079d83796"
      },
      "execution_count": 34,
      "outputs": [
        {
          "output_type": "stream",
          "name": "stdout",
          "text": [
            "mape: 116581801369726.2\n",
            "individual f1_score: [0.9817959  0.30735405 0.        ]\n",
            "weighted f1_score: 0.9698776253536181\n",
            "confusion_matrix:\n",
            "[[325268   3352      0]\n",
            " [  8619   2656      0]\n",
            " [    91      0      0]]\n",
            "classification_report:\n"
          ]
        },
        {
          "output_type": "stream",
          "name": "stderr",
          "text": [
            "/usr/local/lib/python3.8/dist-packages/sklearn/metrics/_classification.py:1318: UndefinedMetricWarning: Precision and F-score are ill-defined and being set to 0.0 in labels with no predicted samples. Use `zero_division` parameter to control this behavior.\n",
            "  _warn_prf(average, modifier, msg_start, len(result))\n",
            "/usr/local/lib/python3.8/dist-packages/sklearn/metrics/_classification.py:1318: UndefinedMetricWarning: Precision and F-score are ill-defined and being set to 0.0 in labels with no predicted samples. Use `zero_division` parameter to control this behavior.\n",
            "  _warn_prf(average, modifier, msg_start, len(result))\n"
          ]
        },
        {
          "output_type": "stream",
          "name": "stdout",
          "text": [
            "              precision    recall  f1-score   support\n",
            "\n",
            "           0       0.97      0.99      0.98    328620\n",
            "           1       0.44      0.24      0.31     11275\n",
            "           2       0.00      0.00      0.00        91\n",
            "\n",
            "    accuracy                           0.96    339986\n",
            "   macro avg       0.47      0.41      0.43    339986\n",
            "weighted avg       0.96      0.96      0.96    339986\n",
            "\n"
          ]
        },
        {
          "output_type": "stream",
          "name": "stderr",
          "text": [
            "/usr/local/lib/python3.8/dist-packages/sklearn/metrics/_classification.py:1318: UndefinedMetricWarning: Precision and F-score are ill-defined and being set to 0.0 in labels with no predicted samples. Use `zero_division` parameter to control this behavior.\n",
            "  _warn_prf(average, modifier, msg_start, len(result))\n"
          ]
        }
      ]
    },
    {
      "cell_type": "code",
      "source": [],
      "metadata": {
        "id": "o0A5EgucXH7m"
      },
      "execution_count": null,
      "outputs": []
    }
  ],
  "metadata": {
    "colab": {
      "provenance": []
    },
    "gpuClass": "standard",
    "kernelspec": {
      "display_name": "Python 3",
      "name": "python3"
    },
    "language_info": {
      "name": "python"
    }
  },
  "nbformat": 4,
  "nbformat_minor": 0
}